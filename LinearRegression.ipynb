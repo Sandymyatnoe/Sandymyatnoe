{
  "nbformat": 4,
  "nbformat_minor": 0,
  "metadata": {
    "colab": {
      "provenance": [],
      "toc_visible": true,
      "gpuType": "T4",
      "authorship_tag": "ABX9TyMUqDhijbwFiYk/uTwY1IAH",
      "include_colab_link": true
    },
    "kernelspec": {
      "name": "python3",
      "display_name": "Python 3"
    },
    "language_info": {
      "name": "python"
    },
    "accelerator": "GPU"
  },
  "cells": [
    {
      "cell_type": "markdown",
      "metadata": {
        "id": "view-in-github",
        "colab_type": "text"
      },
      "source": [
        "<a href=\"https://colab.research.google.com/github/Sandymyatnoe/Sandymyatnoe/blob/main/LinearRegression.ipynb\" target=\"_parent\"><img src=\"https://colab.research.google.com/assets/colab-badge.svg\" alt=\"Open In Colab\"/></a>"
      ]
    },
    {
      "cell_type": "code",
      "execution_count": null,
      "metadata": {
        "colab": {
          "base_uri": "https://localhost:8080/",
          "height": 35
        },
        "id": "o4VomXoJkWLt",
        "outputId": "1b2ad354-0a2e-4f8f-ff3a-32fd35b186fa"
      },
      "outputs": [
        {
          "output_type": "execute_result",
          "data": {
            "text/plain": [
              "'2.3.1+cu121'"
            ],
            "application/vnd.google.colaboratory.intrinsic+json": {
              "type": "string"
            }
          },
          "metadata": {},
          "execution_count": 23
        }
      ],
      "source": [
        "import torch\n",
        "from torch import nn\n",
        "import numpy as np\n",
        "import matplotlib.pyplot as plt\n",
        "\n",
        "torch.__version__"
      ]
    },
    {
      "cell_type": "markdown",
      "source": [
        "#Data\n"
      ],
      "metadata": {
        "id": "JsCDqMXFkc6D"
      }
    },
    {
      "cell_type": "code",
      "source": [
        "device=\"cuda\" if torch.cuda.is_available() else \"cpu\"\n",
        "device"
      ],
      "metadata": {
        "colab": {
          "base_uri": "https://localhost:8080/",
          "height": 35
        },
        "id": "iOD8IGTOko-v",
        "outputId": "5c45e35d-5307-474b-b2c5-8d7ab3256b21"
      },
      "execution_count": null,
      "outputs": [
        {
          "output_type": "execute_result",
          "data": {
            "text/plain": [
              "'cpu'"
            ],
            "application/vnd.google.colaboratory.intrinsic+json": {
              "type": "string"
            }
          },
          "metadata": {},
          "execution_count": 24
        }
      ]
    },
    {
      "cell_type": "code",
      "source": [
        "#create some data using the linear regression formula of y=w*X+b\n",
        "\n",
        "weight=0.7\n",
        "bias=0.3\n",
        "\n",
        "#create the range value\n",
        "\n",
        "start=0\n",
        "end=1\n",
        "step=0.02\n",
        "\n",
        "3#create X and y\n",
        "\n",
        "X=torch.arange(start, end, step).unsqueeze(dim=1)\n",
        "y=weight*X+bias\n",
        "X[:10], y[:10]"
      ],
      "metadata": {
        "id": "vNmiPbHBmHfh",
        "colab": {
          "base_uri": "https://localhost:8080/"
        },
        "outputId": "cf153016-8ac4-4e7f-dbd2-6ca9a74dcada"
      },
      "execution_count": null,
      "outputs": [
        {
          "output_type": "execute_result",
          "data": {
            "text/plain": [
              "(tensor([[0.0000],\n",
              "         [0.0200],\n",
              "         [0.0400],\n",
              "         [0.0600],\n",
              "         [0.0800],\n",
              "         [0.1000],\n",
              "         [0.1200],\n",
              "         [0.1400],\n",
              "         [0.1600],\n",
              "         [0.1800]]),\n",
              " tensor([[0.3000],\n",
              "         [0.3140],\n",
              "         [0.3280],\n",
              "         [0.3420],\n",
              "         [0.3560],\n",
              "         [0.3700],\n",
              "         [0.3840],\n",
              "         [0.3980],\n",
              "         [0.4120],\n",
              "         [0.4260]]))"
            ]
          },
          "metadata": {},
          "execution_count": 25
        }
      ]
    },
    {
      "cell_type": "code",
      "source": [
        "#split data\n",
        "\n",
        "train_split=int(0.8*len(X))\n",
        "X_train, y_train=X[:train_split], y[:train_split]\n",
        "X_test, y_test=X[train_split:], y[train_split:]\n",
        "len(X_train), len(y_train), len(X_test), len(y_test)"
      ],
      "metadata": {
        "colab": {
          "base_uri": "https://localhost:8080/"
        },
        "id": "qRPS_dWonVgH",
        "outputId": "5372e870-a071-410e-c093-17c58a3396cc"
      },
      "execution_count": null,
      "outputs": [
        {
          "output_type": "execute_result",
          "data": {
            "text/plain": [
              "(40, 40, 10, 10)"
            ]
          },
          "metadata": {},
          "execution_count": 26
        }
      ]
    },
    {
      "cell_type": "code",
      "source": [
        "#plot the data\n",
        "\n",
        "def plot_predictions(train_data=X_train,\n",
        "                     train_label=y_train,\n",
        "                     test_data=X_test,\n",
        "                     test_label=y_test,\n",
        "                     prediction=None):\n",
        "\n",
        "  plt.figure(figsize=(12,7))\n",
        "  plt.scatter(train_data, train_label, s=6, c=\"b\", label=\"Train data\")\n",
        "  plt.scatter(test_data, test_label, s=6, c=\"g\", label=\"Test data\")\n",
        "\n",
        "  if prediction is not None:\n",
        "    plt.scatter(X_test, prediction, s=6, c=\"r\", label=\"Prediction\")\n",
        "  plt.legend(prop={\"size\":14})\n",
        "\n"
      ],
      "metadata": {
        "id": "ADzivAecn2Zd"
      },
      "execution_count": null,
      "outputs": []
    },
    {
      "cell_type": "code",
      "source": [
        "plot_predictions(X_train, y_train, X_test, y_test)"
      ],
      "metadata": {
        "colab": {
          "base_uri": "https://localhost:8080/",
          "height": 599
        },
        "id": "m3BfLdZspyQ9",
        "outputId": "dde9d8c4-d21f-4503-945a-fb95c6092cfb"
      },
      "execution_count": null,
      "outputs": [
        {
          "output_type": "display_data",
          "data": {
            "text/plain": [
              "<Figure size 1200x700 with 1 Axes>"
            ],
            "image/png": "[encoded data removed]"
          },
          "metadata": {}
        }
      ]
    },
    {
      "cell_type": "markdown",
      "source": [
        "#Building model\n"
      ],
      "metadata": {
        "id": "coSR5FCdqwhJ"
      }
    },
    {
      "cell_type": "code",
      "source": [
        "#create a linear model by subclassing nn.Module\n",
        "\n",
        "class LinearRegression(nn.Module):\n",
        "  def __init__(self):\n",
        "    super().__init__()\n",
        "\n",
        "    #Use nn.Linear()for creating the model parameter\n",
        "\n",
        "    self.linear_layer=nn.Linear(in_features=1,\n",
        "                                out_features=1)\n",
        "\n",
        "  def forward(self, x:torch.tensor)->torch.tensor:\n",
        "    return self.linear_layer(x)\n",
        "\n",
        "\n",
        "\n",
        "#set the manual seed\n",
        "\n",
        "torch.manual_seed(42)\n",
        "\n",
        "model=LinearRegression()\n",
        "model, model.state_dict()"
      ],
      "metadata": {
        "colab": {
          "base_uri": "https://localhost:8080/"
        },
        "id": "m1oeBJQHqfVv",
        "outputId": "db9a0181-e038-456c-a8c4-63910efd9875"
      },
      "execution_count": null,
      "outputs": [
        {
          "output_type": "execute_result",
          "data": {
            "text/plain": [
              "(LinearRegression(\n",
              "   (linear_layer): Linear(in_features=1, out_features=1, bias=True)\n",
              " ),\n",
              " OrderedDict([('linear_layer.weight', tensor([[0.7645]])),\n",
              "              ('linear_layer.bias', tensor([0.8300]))]))"
            ]
          },
          "metadata": {},
          "execution_count": 29
        }
      ]
    },
    {
      "cell_type": "code",
      "source": [
        "next(model.parameters()).device"
      ],
      "metadata": {
        "colab": {
          "base_uri": "https://localhost:8080/"
        },
        "id": "kXKFGVW_udiJ",
        "outputId": "b8d4f11c-b1a2-4fee-f412-8b15bba4f312"
      },
      "execution_count": null,
      "outputs": [
        {
          "output_type": "execute_result",
          "data": {
            "text/plain": [
              "device(type='cpu')"
            ]
          },
          "metadata": {},
          "execution_count": 30
        }
      ]
    },
    {
      "cell_type": "code",
      "source": [
        "#Set the model to use the target device"
      ],
      "metadata": {
        "id": "huQ4m_wisk-2"
      },
      "execution_count": null,
      "outputs": []
    },
    {
      "cell_type": "code",
      "source": [
        "model.to(device)\n",
        "next(model.parameters()).device"
      ],
      "metadata": {
        "colab": {
          "base_uri": "https://localhost:8080/"
        },
        "id": "RyWoNUCIunm4",
        "outputId": "673bfac4-c0a9-46aa-eef5-ec2377342f84"
      },
      "execution_count": null,
      "outputs": [
        {
          "output_type": "execute_result",
          "data": {
            "text/plain": [
              "device(type='cpu')"
            ]
          },
          "metadata": {},
          "execution_count": 22
        }
      ]
    },
    {
      "cell_type": "markdown",
      "source": [
        "#Training"
      ],
      "metadata": {
        "id": "l8yBkzDOva7C"
      }
    },
    {
      "cell_type": "code",
      "source": [
        "#set up loss function\n",
        "\n",
        "loss_fn=nn.L1Loss()\n",
        "\n",
        "#set up optimizer\n",
        "\n",
        "optimizer=torch.optim.SGD(params=model.parameters(),\n",
        "                          lr=0.01)"
      ],
      "metadata": {
        "id": "so-T6fg3uwSu"
      },
      "execution_count": null,
      "outputs": []
    },
    {
      "cell_type": "code",
      "source": [
        "torch.manual_seed(42)\n",
        "\n",
        "epochs=200\n",
        "\n",
        "#set data to target device\n",
        "\n",
        "X_train=X_train.to(device)\n",
        "y_train=y_train.to(device)\n",
        "X_test=X_test.to(device)\n",
        "y_test=y_test.to(device)\n",
        "\n",
        "for epoch in range(epochs):\n",
        "\n",
        "  model.train()\n",
        "\n",
        "  #1.Forward pass\n",
        "  y_pred=model(X_train)\n",
        "\n",
        "  #2.loss\n",
        "  loss=loss_fn(y_pred, y_train)\n",
        "\n",
        "  #3.optimizer zero grad\n",
        "  optimizer.zero_grad()\n",
        "\n",
        "  #4.backpropagation\n",
        "  loss.backward()\n",
        "\n",
        "  #5.optimizer step\n",
        "  optimizer.step()\n",
        "\n",
        "  ##testing\n",
        "\n",
        "  model.eval()\n",
        "\n",
        "  with torch.inference_mode():\n",
        "    test_pred=model(X_test)\n",
        "\n",
        "    test_loss=loss_fn(test_pred, y_test)\n",
        "\n",
        "\n",
        "  #print out what's happening\n",
        "\n",
        "  if epoch%10==0:\n",
        "    print(f\"Epoch: {epoch} | Loss:{loss} | Test Loss: {test_loss}\")"
      ],
      "metadata": {
        "colab": {
          "base_uri": "https://localhost:8080/"
        },
        "id": "9pkTwRROvc_E",
        "outputId": "8f92d919-57a7-4a86-d5e1-4e0a4a075cfc"
      },
      "execution_count": null,
      "outputs": [
        {
          "output_type": "stream",
          "name": "stdout",
          "text": [
            "Epoch: 0 | Loss:0.5551779866218567 | Test Loss: 0.5739762187004089\n",
            "Epoch: 10 | Loss:0.4399680495262146 | Test Loss: 0.4392663538455963\n",
            "Epoch: 20 | Loss:0.3247582018375397 | Test Loss: 0.30455657839775085\n",
            "Epoch: 30 | Loss:0.20954827964305878 | Test Loss: 0.16984674334526062\n",
            "Epoch: 40 | Loss:0.09433844685554504 | Test Loss: 0.03513689711689949\n",
            "Epoch: 50 | Loss:0.023886386305093765 | Test Loss: 0.04784906655550003\n",
            "Epoch: 60 | Loss:0.0199567973613739 | Test Loss: 0.04580312222242355\n",
            "Epoch: 70 | Loss:0.016517987474799156 | Test Loss: 0.0375305712223053\n",
            "Epoch: 80 | Loss:0.013089170679450035 | Test Loss: 0.029944902285933495\n",
            "Epoch: 90 | Loss:0.009653178043663502 | Test Loss: 0.02167237363755703\n",
            "Epoch: 100 | Loss:0.006215679459273815 | Test Loss: 0.014086711220443249\n",
            "Epoch: 110 | Loss:0.002787243574857712 | Test Loss: 0.005814164876937866\n",
            "Epoch: 120 | Loss:0.0012645035749301314 | Test Loss: 0.013801807537674904\n",
            "Epoch: 130 | Loss:0.0012645035749301314 | Test Loss: 0.013801807537674904\n",
            "Epoch: 140 | Loss:0.0012645035749301314 | Test Loss: 0.013801807537674904\n",
            "Epoch: 150 | Loss:0.0012645035749301314 | Test Loss: 0.013801807537674904\n",
            "Epoch: 160 | Loss:0.0012645035749301314 | Test Loss: 0.013801807537674904\n",
            "Epoch: 170 | Loss:0.0012645035749301314 | Test Loss: 0.013801807537674904\n",
            "Epoch: 180 | Loss:0.0012645035749301314 | Test Loss: 0.013801807537674904\n",
            "Epoch: 190 | Loss:0.0012645035749301314 | Test Loss: 0.013801807537674904\n"
          ]
        }
      ]
    },
    {
      "cell_type": "code",
      "source": [
        "model.state_dict()"
      ],
      "metadata": {
        "colab": {
          "base_uri": "https://localhost:8080/"
        },
        "id": "y38SD6loxcDX",
        "outputId": "7ec4eba8-2426-4ab1-c62c-32f141ae2204"
      },
      "execution_count": null,
      "outputs": [
        {
          "output_type": "execute_result",
          "data": {
            "text/plain": [
              "OrderedDict([('linear_layer.weight', tensor([[0.6968]])),\n",
              "             ('linear_layer.bias', tensor([0.3025]))])"
            ]
          },
          "metadata": {},
          "execution_count": 34
        }
      ]
    },
    {
      "cell_type": "markdown",
      "source": [
        "#Making and evaluating prediction"
      ],
      "metadata": {
        "id": "vrosZF2Lyjpt"
      }
    },
    {
      "cell_type": "code",
      "source": [
        "#turn model to eval mode\n",
        "\n",
        "model.eval()\n",
        "\n",
        "#make prediction on test data\n",
        "\n",
        "with torch.inference_mode():\n",
        "  y_preds=model(X_test)\n",
        "y_preds"
      ],
      "metadata": {
        "colab": {
          "base_uri": "https://localhost:8080/"
        },
        "id": "9tXW3EJwx7A5",
        "outputId": "73f2a2c5-c9d3-4c9a-b18e-c39ee183ef9b"
      },
      "execution_count": null,
      "outputs": [
        {
          "output_type": "execute_result",
          "data": {
            "text/plain": [
              "tensor([[0.8600],\n",
              "        [0.8739],\n",
              "        [0.8878],\n",
              "        [0.9018],\n",
              "        [0.9157],\n",
              "        [0.9296],\n",
              "        [0.9436],\n",
              "        [0.9575],\n",
              "        [0.9714],\n",
              "        [0.9854]])"
            ]
          },
          "metadata": {},
          "execution_count": 35
        }
      ]
    },
    {
      "cell_type": "code",
      "source": [
        "#check our model prediction visuilization\n",
        "\n",
        "#y_preds.cpu()\n",
        "\n",
        "\n",
        "plot_predictions(prediction=y_preds)"
      ],
      "metadata": {
        "colab": {
          "base_uri": "https://localhost:8080/",
          "height": 599
        },
        "id": "02plFpeGy5Dr",
        "outputId": "4309d9da-ff58-4051-c2d3-665bbb4cf4e3"
      },
      "execution_count": null,
      "outputs": [
        {
          "output_type": "display_data",
          "data": {
            "text/plain": [
              "<Figure size 1200x700 with 1 Axes>"
            ],
            "image/png": "[encoded data removed]"
          },
          "metadata": {}
        }
      ]
    },
    {
      "cell_type": "markdown",
      "source": [
        "#Saving and Loading the model"
      ],
      "metadata": {
        "id": "vekpN_f-zsr7"
      }
    },
    {
      "cell_type": "code",
      "source": [
        "from pathlib import Path\n",
        "\n",
        "\n",
        "#create model directory\n",
        "\n",
        "Model_path=Path(\"models\")\n",
        "Model_path.mkdir(parents=True, exist_ok=True)\n",
        "\n",
        "#create model save path\n",
        "\n",
        "Model_name=\"linearRegression.pth\"\n",
        "Model_save_path=Model_path/Model_name\n",
        "Model_save_path\n",
        "\n",
        "\n",
        "torch.save(obj=model.state_dict(),\n",
        "           f=Model_save_path)"
      ],
      "metadata": {
        "id": "ELNkuyfvzZqX"
      },
      "execution_count": null,
      "outputs": []
    },
    {
      "cell_type": "code",
      "source": [
        "#load the model\n",
        "\n",
        "\n",
        "#create a new instance of lR model\n",
        "loaded_model=LinearRegression()\n",
        "\n",
        "#load the saved model.state_dict\n",
        "\n",
        "loaded_model.load_state_dict(torch.load(Model_save_path))\n",
        "\n",
        "#Put the loaded model to device\n",
        "\n",
        "loaded_model.to(device)\n"
      ],
      "metadata": {
        "colab": {
          "base_uri": "https://localhost:8080/"
        },
        "id": "3ZSqsUZ10UvZ",
        "outputId": "99406098-0101-42e4-8b04-3d0351ee4d2c"
      },
      "execution_count": null,
      "outputs": [
        {
          "output_type": "execute_result",
          "data": {
            "text/plain": [
              "LinearRegression(\n",
              "  (linear_layer): Linear(in_features=1, out_features=1, bias=True)\n",
              ")"
            ]
          },
          "metadata": {},
          "execution_count": 45
        }
      ]
    },
    {
      "cell_type": "code",
      "source": [
        "next(loaded_model.parameters()).device"
      ],
      "metadata": {
        "colab": {
          "base_uri": "https://localhost:8080/"
        },
        "id": "yl73guXz2FeQ",
        "outputId": "4384fe75-c61c-4a02-fe74-8d491b7ff237"
      },
      "execution_count": null,
      "outputs": [
        {
          "output_type": "execute_result",
          "data": {
            "text/plain": [
              "device(type='cpu')"
            ]
          },
          "metadata": {},
          "execution_count": 46
        }
      ]
    },
    {
      "cell_type": "code",
      "source": [
        "loaded_model.state_dict()"
      ],
      "metadata": {
        "colab": {
          "base_uri": "https://localhost:8080/"
        },
        "id": "NPtvTLQj2OJt",
        "outputId": "f17d5721-a00e-4534-9199-d3490e75a08a"
      },
      "execution_count": null,
      "outputs": [
        {
          "output_type": "execute_result",
          "data": {
            "text/plain": [
              "OrderedDict([('linear_layer.weight', tensor([[0.6968]])),\n",
              "             ('linear_layer.bias', tensor([0.3025]))])"
            ]
          },
          "metadata": {},
          "execution_count": 47
        }
      ]
    },
    {
      "cell_type": "code",
      "source": [
        "#Evaluate the loaded model\n",
        "\n",
        "loaded_model.eval()\n",
        "\n",
        "with torch.inference_mode():\n",
        "  loaded_model_preds=loaded_model(X_test)\n",
        "\n",
        "y_preds==loaded_model_preds"
      ],
      "metadata": {
        "colab": {
          "base_uri": "https://localhost:8080/"
        },
        "id": "_QXNCXfj2R43",
        "outputId": "cb9dc709-1524-48ee-ab75-4d3d831d6747"
      },
      "execution_count": null,
      "outputs": [
        {
          "output_type": "execute_result",
          "data": {
            "text/plain": [
              "tensor([[True],\n",
              "        [True],\n",
              "        [True],\n",
              "        [True],\n",
              "        [True],\n",
              "        [True],\n",
              "        [True],\n",
              "        [True],\n",
              "        [True],\n",
              "        [True]])"
            ]
          },
          "metadata": {},
          "execution_count": 48
        }
      ]
    },
    {
      "cell_type": "code",
      "source": [],
      "metadata": {
        "id": "ndZ_GqSO2mnB"
      },
      "execution_count": null,
      "outputs": []
    }
  ]
}