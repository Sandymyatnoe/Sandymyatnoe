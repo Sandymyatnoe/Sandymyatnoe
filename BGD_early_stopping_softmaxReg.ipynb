{
 "cells": [
  {
   "cell_type": "code",
   "execution_count": 1,
   "id": "af6cc84e-6895-4331-97b5-00de3b5d040e",
   "metadata": {},
   "outputs": [
    {
     "data": {
      "text/plain": [
       "dict_keys(['data', 'target', 'frame', 'target_names', 'DESCR', 'feature_names', 'filename', 'data_module'])"
      ]
     },
     "execution_count": 1,
     "metadata": {},
     "output_type": "execute_result"
    }
   ],
   "source": [
    "from sklearn import datasets\n",
    "iris=datasets.load_iris()\n",
    "iris.keys()"
   ]
  },
  {
   "cell_type": "code",
   "execution_count": 2,
   "id": "bffaf178-d2de-477e-9003-826cf815355e",
   "metadata": {},
   "outputs": [],
   "source": [
    "X=iris[\"data\"][:,(2,3)]\n",
    "y=iris[\"target\"]"
   ]
  },
  {
   "cell_type": "code",
   "execution_count": 4,
   "id": "9eb51b3a-8f9a-48d3-9a67-a682121462cf",
   "metadata": {},
   "outputs": [
    {
     "data": {
      "text/plain": [
       "array([[1. , 1.4, 0.2],\n",
       "       [1. , 1.4, 0.2],\n",
       "       [1. , 1.3, 0.2],\n",
       "       [1. , 1.5, 0.2],\n",
       "       [1. , 1.4, 0.2]])"
      ]
     },
     "execution_count": 4,
     "metadata": {},
     "output_type": "execute_result"
    }
   ],
   "source": [
    "import numpy as np\n",
    "\n",
    "X_with_bias=np.c_[np.ones([len(X),1]),X]\n",
    "X_with_bias[:5]"
   ]
  },
  {
   "cell_type": "code",
   "execution_count": 5,
   "id": "36eacf4d-c35c-4ea3-aa5b-2de34d922d63",
   "metadata": {},
   "outputs": [],
   "source": [
    "np.random.seed(2042)"
   ]
  },
  {
   "cell_type": "code",
   "execution_count": 20,
   "id": "982bc37d-a86a-44fa-9786-469110180aa9",
   "metadata": {},
   "outputs": [],
   "source": [
    "test_ratio=0.2\n",
    "val_ratio=0.2\n",
    "total_size=len(X_with_bias)\n",
    "\n",
    "test_size=int(total_size*test_ratio)\n",
    "val_size=int(total_size*val_ratio)\n",
    "train_size=total_size-test_size-val_size\n",
    "\n",
    "\n",
    "rnd_indices=np.random.permutation(total_size)\n",
    "\n",
    "X_train=X_with_bias[rnd_indices[:train_size]]\n",
    "y_train=y[rnd_indices[:train_size]]\n",
    "X_val=X_with_bias[rnd_indices[train_size:-test_size]]\n",
    "y_val=y[rnd_indices[train_size:-test_size]]\n",
    "X_test=X_with_bias[rnd_indices[-test_size:]]\n",
    "y_test=y[rnd_indices[-test_size:]]"
   ]
  },
  {
   "cell_type": "code",
   "execution_count": 21,
   "id": "21500900-1028-4313-a811-3c59c4f9519f",
   "metadata": {},
   "outputs": [],
   "source": [
    "def to_one_hot(y):\n",
    "    n_classes=y.max()+1\n",
    "    m=len(y)\n",
    "    y_one_hot=np.zeros((m,n_classes))\n",
    "    y_one_hot[np.arange(m),y]=1\n",
    "    return y_one_hot"
   ]
  },
  {
   "cell_type": "code",
   "execution_count": 22,
   "id": "b5fc1159-bd1b-4de8-afd7-8292aa619c14",
   "metadata": {},
   "outputs": [
    {
     "data": {
      "text/plain": [
       "array([2, 0, 2, 1, 0])"
      ]
     },
     "execution_count": 22,
     "metadata": {},
     "output_type": "execute_result"
    }
   ],
   "source": [
    "y_train[:5]"
   ]
  },
  {
   "cell_type": "code",
   "execution_count": 23,
   "id": "f90e3ad0-2773-4384-9c66-c5a515d799b5",
   "metadata": {},
   "outputs": [
    {
     "data": {
      "text/plain": [
       "array([[0., 0., 1.],\n",
       "       [1., 0., 0.],\n",
       "       [0., 0., 1.],\n",
       "       [0., 1., 0.],\n",
       "       [1., 0., 0.]])"
      ]
     },
     "execution_count": 23,
     "metadata": {},
     "output_type": "execute_result"
    }
   ],
   "source": [
    "to_one_hot(y_train[:5])"
   ]
  },
  {
   "cell_type": "code",
   "execution_count": 24,
   "id": "497675bd-76b6-4ca9-a1ec-818e88eaf2b4",
   "metadata": {},
   "outputs": [],
   "source": [
    "y_train_one_hot=to_one_hot(y_train)\n",
    "y_val_one_hot=to_one_hot(y_val)\n",
    "y_test_one_hot=to_one_hot(y_test)"
   ]
  },
  {
   "cell_type": "code",
   "execution_count": 25,
   "id": "73482636-e211-47a2-bad2-80d081a2b37e",
   "metadata": {},
   "outputs": [],
   "source": [
    "def softmax(logits):\n",
    "    exps=np.exp(logits)\n",
    "    exp_sums=np.sum(exps, axis=1, keepdims=True)\n",
    "    return exps/exp_sums"
   ]
  },
  {
   "cell_type": "code",
   "execution_count": 30,
   "id": "17722dbc-7b1c-4e00-acf4-e2029ce2c0ee",
   "metadata": {},
   "outputs": [],
   "source": [
    "n_inputs=X_train.shape[1]\n",
    "n_outputs=len(np.unique(y_train))"
   ]
  },
  {
   "cell_type": "code",
   "execution_count": 33,
   "id": "d7be6fe3-bd6e-4d2e-9c03-56d4bca9312c",
   "metadata": {},
   "outputs": [
    {
     "name": "stdout",
     "output_type": "stream",
     "text": [
      "0 5.8285220987930275\n",
      "500 0.8628788630980642\n",
      "1000 0.7172370543817995\n",
      "1500 0.6289979536153374\n",
      "2000 0.5697794309834703\n",
      "2500 0.5268651395466324\n",
      "3000 0.49399474427793827\n",
      "3500 0.46777295712811817\n",
      "4000 0.4462025770226584\n",
      "4500 0.4280295539675276\n",
      "5000 0.41242421799794043\n"
     ]
    }
   ],
   "source": [
    "eta=0.01\n",
    "n_iterations=5001\n",
    "m=len(X_train)\n",
    "epsilon=1e-7\n",
    "\n",
    "Theta=np.random.randn(n_inputs, n_outputs)\n",
    "\n",
    "for i in range(n_iterations):\n",
    "    logits=X_train.dot(Theta)\n",
    "    Y_proba=softmax(logits)\n",
    "    if i%500==0:\n",
    "        loss=-np.mean(np.sum(y_train_one_hot*np.log(Y_proba+epsilon), axis=1))\n",
    "        print(i, loss)\n",
    "    error=Y_proba-y_train_one_hot\n",
    "    gradients=1/m*X_train.T.dot(error)\n",
    "    Theta=Theta-eta*gradients"
   ]
  },
  {
   "cell_type": "code",
   "execution_count": 34,
   "id": "8c1554ed-9691-4aa6-be22-737af0f941d4",
   "metadata": {},
   "outputs": [
    {
     "data": {
      "text/plain": [
       "array([[ 3.57713219,  0.06182778, -1.89934743],\n",
       "       [-0.75700209,  0.12093512, -0.20704129],\n",
       "       [-1.5014538 ,  0.30932909,  2.51880068]])"
      ]
     },
     "execution_count": 34,
     "metadata": {},
     "output_type": "execute_result"
    }
   ],
   "source": [
    "Theta"
   ]
  },
  {
   "cell_type": "code",
   "execution_count": 36,
   "id": "0c0065df-8e3a-4aea-a4a3-b9059b2d2de9",
   "metadata": {},
   "outputs": [
    {
     "data": {
      "text/plain": [
       "np.float64(0.9333333333333333)"
      ]
     },
     "execution_count": 36,
     "metadata": {},
     "output_type": "execute_result"
    }
   ],
   "source": [
    "logits=X_val.dot(Theta)\n",
    "Y_proba=softmax(logits)\n",
    "y_predict=np.argmax(Y_proba, axis=1)\n",
    "accuracy_score=np.mean(y_predict==y_val)\n",
    "accuracy_score"
   ]
  },
  {
   "cell_type": "code",
   "execution_count": 40,
   "id": "d790f844-3592-4701-bbb2-68774d7ff33d",
   "metadata": {},
   "outputs": [
    {
     "name": "stdout",
     "output_type": "stream",
     "text": [
      "0 1.4750733530361029\n",
      "500 0.5618325536773807\n",
      "1000 0.5320755816364335\n",
      "1500 0.523097987174734\n",
      "2000 0.5197147632023196\n",
      "2500 0.5183284687639929\n",
      "3000 0.517735720367923\n",
      "3500 0.5174760000568017\n",
      "4000 0.5173604860049751\n",
      "4500 0.5173086202520893\n",
      "5000 0.5172851889756602\n"
     ]
    }
   ],
   "source": [
    "eta = 0.1\n",
    "n_iterations = 5001\n",
    "m = len(X_train)\n",
    "epsilon = 1e-7\n",
    "\n",
    "alpha=0.1\n",
    "Theta = np.random.randn(n_inputs, n_outputs)\n",
    "for iteration in range(n_iterations):\n",
    "    logits = X_train.dot(Theta)\n",
    "    Y_proba = softmax(logits)\n",
    "    if iteration % 500 == 0:\n",
    "        xentropy_loss = -np.mean(np.sum(y_train_one_hot * np.log(Y_proba + epsilon), axis=1))\n",
    "        l2_loss = 1/2 * np.sum(np.square(Theta[1:]))\n",
    "        loss = xentropy_loss + alpha * l2_loss\n",
    "        print(iteration, loss)\n",
    "    error = Y_proba - y_train_one_hot\n",
    "    gradients = 1/m * X_train.T.dot(error) + np.r_[np.zeros([1, n_outputs]), alpha * Theta[1:]]\n",
    "    Theta = Theta - eta * gradients\n"
   ]
  },
  {
   "cell_type": "code",
   "execution_count": 41,
   "id": "0b5be788-011f-4334-b21a-73a15d5bb44c",
   "metadata": {},
   "outputs": [
    {
     "data": {
      "text/plain": [
       "array([[ 4.33429419,  0.58305694, -4.67944235],\n",
       "       [-1.10068448,  0.15013305,  0.95055143],\n",
       "       [-0.43271266, -0.17995345,  0.61266611]])"
      ]
     },
     "execution_count": 41,
     "metadata": {},
     "output_type": "execute_result"
    }
   ],
   "source": [
    "Theta"
   ]
  },
  {
   "cell_type": "code",
   "execution_count": 43,
   "id": "e5525006-c3a0-485c-b301-dd771b36a246",
   "metadata": {},
   "outputs": [
    {
     "data": {
      "text/plain": [
       "np.float64(0.9666666666666667)"
      ]
     },
     "execution_count": 43,
     "metadata": {},
     "output_type": "execute_result"
    }
   ],
   "source": [
    "logits=X_val.dot(Theta)\n",
    "Y_proba=softmax(logits)\n",
    "y_predict=np.argmax(Y_proba, axis=1)\n",
    "\n",
    "accuracy_score=np.mean(y_predict==y_val)\n",
    "accuracy_score"
   ]
  },
  {
   "cell_type": "code",
   "execution_count": 47,
   "id": "083f7029-358f-4b83-9cac-574eb0e83985",
   "metadata": {},
   "outputs": [
    {
     "name": "stdout",
     "output_type": "stream",
     "text": [
      "0 2.8044976338482397\n",
      "500 0.5281458771399836\n",
      "1000 0.4908330944716105\n",
      "1500 0.4773759819370363\n",
      "2000 0.4713377895085288\n",
      "2500 0.4683295073739356\n",
      "3000 0.46671426301535957\n",
      "3500 0.4657949128564906\n",
      "4000 0.46524713981272414\n",
      "4500 0.4649090417727526\n",
      "5000 0.4646947548072835\n"
     ]
    }
   ],
   "source": [
    "eta = 0.1 \n",
    "n_iterations = 5001\n",
    "m = len(X_train)\n",
    "epsilon = 1e-7\n",
    "alpha = 0.1  # regularization hyperparameter\n",
    "\n",
    "best_loss=np.inf\n",
    "\n",
    "Theta = np.random.randn(n_inputs, n_outputs)\n",
    "\n",
    "for iteration in range(n_iterations):\n",
    "    logits = X_train.dot(Theta)\n",
    "    Y_proba = softmax(logits)\n",
    "    error = Y_proba - y_train_one_hot\n",
    "    gradients = 1/m * X_train.T.dot(error) + np.r_[np.zeros([1, n_outputs]), alpha * Theta[1:]]\n",
    "    Theta = Theta - eta * gradients\n",
    "\n",
    "    logits = X_val.dot(Theta)\n",
    "    Y_proba = softmax(logits)\n",
    "    xentropy_loss = -np.mean(np.sum(y_val_one_hot * np.log(Y_proba + epsilon), axis=1))\n",
    "    l2_loss = 1/2 * np.sum(np.square(Theta[1:]))\n",
    "    loss = xentropy_loss + alpha * l2_loss\n",
    "\n",
    "    if iteration%500==0:\n",
    "        print(iteration, loss)\n",
    "    if loss<best_loss:\n",
    "        best_loss=loss\n",
    "    else:\n",
    "        print(iteration-1, best_loss)\n",
    "        print(iteration, loss, \"early stopping!\")\n",
    "        break\n"
   ]
  },
  {
   "cell_type": "code",
   "execution_count": 48,
   "id": "667d1eac-246c-4eb4-8f19-6289c3cca0c6",
   "metadata": {},
   "outputs": [
    {
     "data": {
      "text/plain": [
       "array([[ 3.91008629,  0.15879653, -5.10457609],\n",
       "       [-1.10074682,  0.1500831 ,  0.95066372],\n",
       "       [-0.43272786, -0.17996039,  0.61268825]])"
      ]
     },
     "execution_count": 48,
     "metadata": {},
     "output_type": "execute_result"
    }
   ],
   "source": [
    "Theta"
   ]
  },
  {
   "cell_type": "code",
   "execution_count": 50,
   "id": "ee61f9c0-89b2-495f-ba75-3a2cfccdddd4",
   "metadata": {},
   "outputs": [
    {
     "data": {
      "text/plain": [
       "np.float64(0.9666666666666667)"
      ]
     },
     "execution_count": 50,
     "metadata": {},
     "output_type": "execute_result"
    }
   ],
   "source": [
    "logits=X_val.dot(Theta)\n",
    "Y_proba=softmax(logits)\n",
    "y_predict=np.argmax(Y_proba, axis=1)\n",
    "\n",
    "accuracy_score=np.mean(y_predict==y_val)\n",
    "accuracy_score"
   ]
  },
  {
   "cell_type": "code",
   "execution_count": null,
   "id": "4ffa6352-a7f3-4f2f-a7a0-f94b3baabb61",
   "metadata": {},
   "outputs": [],
   "source": [
    "logits=X_test.dot(Theta)\n",
    "y_proba=softmax(logits)\n",
    "y_predict=np."
   ]
  }
 ],
 "metadata": {
  "kernelspec": {
   "display_name": "Python 3 (ipykernel)",
   "language": "python",
   "name": "python3"
  },
  "language_info": {
   "codemirror_mode": {
    "name": "ipython",
    "version": 3
   },
   "file_extension": ".py",
   "mimetype": "text/x-python",
   "name": "python",
   "nbconvert_exporter": "python",
   "pygments_lexer": "ipython3",
   "version": "3.9.18"
  }
 },
 "nbformat": 4,
 "nbformat_minor": 5
}
